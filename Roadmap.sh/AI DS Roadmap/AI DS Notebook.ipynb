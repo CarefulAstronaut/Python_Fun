{
 "cells": [
  {
   "cell_type": "markdown",
   "metadata": {},
   "source": [
    "## 1.0 Introduction\n",
    "\n",
    "This notebook will be following the AI & Data Science roadmap (https://roadmap.sh/ai-data-scientist). I am using this notebook (and others in this repo) as both a notes tracker and an exercise in re-familiarizing myself to the DS techstack. \n",
    "\n",
    "Each stop on the roadmap will be given it's own section, with a combination of markdown (notes) and code (application) sections. I'll be following the tutorials as best I can, but looking to leverage platforms I have existing access to as much as possible (LinkedIn Learning, YouTube, ChatGPT, etc) before purchasing additional resources. "
   ]
  },
  {
   "cell_type": "markdown",
   "metadata": {},
   "source": [
    "## 2.0 Mathematics \n",
    "\n",
    "Going into some foundational level math.  Hopefully most of this is review, but I know there is some material I haven't mastered yet.  "
   ]
  },
  {
   "cell_type": "markdown",
   "metadata": {},
   "source": [
    "### 2.1 Linear Algebra, Calculus, Mathematical Analysis\n",
    "\n",
    "Link to the recommended Coursera page: https://www.coursera.org/specializations/mathematics-machine-learning?irclickid=1FYTWc3MCxyPTTzU4TwzTyBJUkHQ7rxfP00iW80&irgwc=1&utm_medium=partners&utm_source=impact&utm_campaign=4863057&utm_content=b2c#courses \n",
    "\n",
    "This is a 3 course series, covering Linear Algebra, Mulivariate Calculus, and PCA.  "
   ]
  },
  {
   "cell_type": "markdown",
   "metadata": {},
   "source": [
    "#### 2.1.1 Mathematics for ML: Linear Algebra\n",
    "\n",
    "-----\n",
    "\n",
    "**Module 1**\n",
    "\n",
    "*Basic intro to the course*\n",
    "\n",
    ">\n",
    "> Resources: \n",
    ">\n",
    "> 1. Khan Academy\n",
    ">   Khan Academy is a great resource right up to 1st or 2nd year undergraduate material. For this course, there's a handy group of videos at \n",
    "https://www.khanacademy.org/math/linear-algebra\n",
    "> 2. 3Blue1Brown Youtube Videos\n",
    ">   Grant Sanderson has a great series of videos developing mathematical intuition on YouTube, which you can reach through his site \n",
    "http://www.3blue1brown.com\n",
    "> 3. Wikipedia\n",
    "> Wikipedia gets better every year - and the linear algebra wikipedia pages are actually pretty good. \n",
    "https://en.wikipedia.org/wiki/Linear_algebra\n",
    "> \n",
    "\n",
    "*Motivations for Linear Algebra*\n",
    "\n",
    "Example with simultaneous equations and shopping. Trying to figure out prices of apples and bananas, when we know the quantities and the final cost. \n",
    "\n",
    "> Example formulas\n",
    "> \n",
    "> 2a + 3b = 8\n",
    "> \n",
    "> 10a + 1b = 13\n",
    "> \n",
    "> Linear Algebra Notation:\n",
    ">\n",
    "> $\\begin{bmatrix}2 & 3 \\cr 10 & 1 \\end{bmatrix}$ $\\begin{pmatrix}a \\cr b \\end{pmatrix}$ = $\\begin{pmatrix}8 \\cr 13 \\end{pmatrix}$ \n",
    ">\n",
    "\n",
    "*The relationship between machine learning, linear algebra, and vectors & matrices*\n",
    "\n",
    "Course descrbibes a Gaussian distribution for heights of people within a population - key points for this example is there are only 2 variables in the formula (as for any normal distribution: Mean $\\mu$ and Standard Deviation $\\sigma$) and the area has been normalized to equal 1.  There is a *actual* data, and then the formulaic *guesses*.  We can take the sum of squares from the differences (residuals) in our expected values to our actual values, and measure the goodness/badness of fit (also called the **SSR - Sum of Squared Residuals**). Over many guesses, we could create a contour for the fit of each of our variables. \n",
    "\n",
    "With this contour plot, we can use vectors to drive our variable up/down the scale of fit, and that is calculus.  \n",
    "\n",
    "Question: What is a vector?\n",
    "\n",
    "1. A list of numbers; typically viewed by computers as an ordered list of numbers they can perform 'operations' on.  \n",
    "2. Position in 3 dimensions of space and in one dimension of time; according to some co-ordinate systems, yes. \n",
    "3. Something which moves in a space of fitting parameters; can be viewed as a list of numbers which describes some optimisation problem. \n",
    "\n",
    "*Vectors*\n",
    "\n",
    "Operations with Vectors:\n",
    "Vectors can be thought of as something that moves an object around a physical space, but it can also be used to describe the attributes of an object. \n",
    "\n",
    ">\n",
    "> Consider a house that has the following attributes:\n",
    ">   120 square metres, 2 bedrooms, 1 bath, and is worth $150K\n",
    ">\n",
    "> That house can also be described as a vector:\n",
    "> $\\begin{bmatrix}120 \\cr 2 \\cr 1 \\cr 150k \\end{bmatrix}$\n",
    ">\n",
    "\n",
    "Vectors obey 2 rules: Addition, and Multiplication by a scalar number. Consider the following vectors, r and s\n",
    "\n",
    "r = $\\begin{bmatrix}3 \\cr 2 \\end{bmatrix}$\n",
    "\n",
    "s = $\\begin{bmatrix}-1 \\cr 2 \\end{bmatrix}$\n",
    "\n",
    ">\n",
    ">Addition is associative, so it doesnt matter what order we add vectors together. \n",
    ">>\n",
    ">r - s = $\\begin{bmatrix}3 \\cr 2 \\end{bmatrix}$ - $\\begin{bmatrix}-1 \\cr 2 \\end{bmatrix}$ = $\\begin{bmatrix}4 \\cr 0 \\end{bmatrix}$\n",
    ">\n",
    "\n",
    "> \n",
    "> Mulitplication by a scalar number \n",
    "> \n",
    "> if r = $\\begin{bmatrix}3 \\cr 2 \\end{bmatrix}$, the 2r = $\\begin{bmatrix}6 \\cr 2 \\end{bmatrix}$\n",
    "\n",
    "\n",
    "**Module 2**\n",
    "\n",
    "Looking at vector modulus (magnitude), combining vectors to get a dot product, and scalar and vector projections.  Then we go into defining space, basis vectors, and linear independence/combinations. \n",
    "\n",
    "*Finding the size of a vector, it's angle and project*\n",
    "\n",
    "Modulus & Inner Product"
   ]
  }
 ],
 "metadata": {
  "kernelspec": {
   "display_name": "Python 3",
   "language": "python",
   "name": "python3"
  },
  "language_info": {
   "codemirror_mode": {
    "name": "ipython",
    "version": 3
   },
   "file_extension": ".py",
   "mimetype": "text/x-python",
   "name": "python",
   "nbconvert_exporter": "python",
   "pygments_lexer": "ipython3",
   "version": "3.10.2"
  }
 },
 "nbformat": 4,
 "nbformat_minor": 2
}
